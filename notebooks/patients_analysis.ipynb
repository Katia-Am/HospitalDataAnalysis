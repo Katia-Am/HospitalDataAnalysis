{
 "cells": [
  {
   "cell_type": "code",
   "execution_count": 1,
   "id": "9fcd7635-6c22-4bf5-a767-270c55e79efd",
   "metadata": {},
   "outputs": [
    {
     "name": "stdout",
     "output_type": "stream",
     "text": [
      "Hello Katouch 💚 Your notebook is working!\n"
     ]
    }
   ],
   "source": [
    "print(\"Hello Katouch 💚 Your notebook is working!\")\n"
   ]
  },
  {
   "cell_type": "code",
   "execution_count": 2,
   "id": "2dd72259-7479-4d0f-bc83-92711fb2fd09",
   "metadata": {},
   "outputs": [
    {
     "name": "stdout",
     "output_type": "stream",
     "text": [
      "Libraries loaded successfully ✅\n"
     ]
    }
   ],
   "source": [
    "import pandas as pd\n",
    "import numpy as np\n",
    "import matplotlib.pyplot as plt\n",
    "\n",
    "print(\"Libraries loaded successfully ✅\")\n"
   ]
  },
  {
   "cell_type": "code",
   "execution_count": 3,
   "id": "3ee1c6e8-697b-492e-8d4e-ca040ff0bd36",
   "metadata": {},
   "outputs": [
    {
     "name": "stdout",
     "output_type": "stream",
     "text": [
      "✅ patients.csv file created successfully in your 'data' folder!\n"
     ]
    }
   ],
   "source": [
    "# Create sample hospital patient data\n",
    "data = {\n",
    "    \"PatientID\": [1, 2, 3, 4, 5],\n",
    "    \"Age\": [45, 34, 67, 23, 56],\n",
    "    \"Sex\": [\"F\", \"M\", \"F\", \"M\", \"F\"],\n",
    "    \"BloodPressure\": [120, 135, 160, 110, 145],\n",
    "    \"Cholesterol\": [200, 240, 180, 190, 220],\n",
    "    \"Diagnosis\": [\"Normal\", \"Hypertension\", \"High Cholesterol\", \"Normal\", \"Hypertension\"]\n",
    "}\n",
    "\n",
    "# Convert it to a pandas DataFrame\n",
    "df = pd.DataFrame(data)\n",
    "\n",
    "# Save the data as a CSV file in the 'data' folder\n",
    "df.to_csv(\"../data/patients.csv\", index=False)\n",
    "\n",
    "print(\"✅ patients.csv file created successfully in your 'data' folder!\")\n"
   ]
  },
  {
   "cell_type": "code",
   "execution_count": 4,
   "id": "e80f3d0a-1d9f-4f2b-b721-ba5312c3685e",
   "metadata": {},
   "outputs": [
    {
     "data": {
      "text/html": [
       "<div>\n",
       "<style scoped>\n",
       "    .dataframe tbody tr th:only-of-type {\n",
       "        vertical-align: middle;\n",
       "    }\n",
       "\n",
       "    .dataframe tbody tr th {\n",
       "        vertical-align: top;\n",
       "    }\n",
       "\n",
       "    .dataframe thead th {\n",
       "        text-align: right;\n",
       "    }\n",
       "</style>\n",
       "<table border=\"1\" class=\"dataframe\">\n",
       "  <thead>\n",
       "    <tr style=\"text-align: right;\">\n",
       "      <th></th>\n",
       "      <th>PatientID</th>\n",
       "      <th>Age</th>\n",
       "      <th>Sex</th>\n",
       "      <th>BloodPressure</th>\n",
       "      <th>Cholesterol</th>\n",
       "      <th>Diagnosis</th>\n",
       "    </tr>\n",
       "  </thead>\n",
       "  <tbody>\n",
       "    <tr>\n",
       "      <th>0</th>\n",
       "      <td>1</td>\n",
       "      <td>45</td>\n",
       "      <td>F</td>\n",
       "      <td>120</td>\n",
       "      <td>200</td>\n",
       "      <td>Normal</td>\n",
       "    </tr>\n",
       "    <tr>\n",
       "      <th>1</th>\n",
       "      <td>2</td>\n",
       "      <td>34</td>\n",
       "      <td>M</td>\n",
       "      <td>135</td>\n",
       "      <td>240</td>\n",
       "      <td>Hypertension</td>\n",
       "    </tr>\n",
       "    <tr>\n",
       "      <th>2</th>\n",
       "      <td>3</td>\n",
       "      <td>67</td>\n",
       "      <td>F</td>\n",
       "      <td>160</td>\n",
       "      <td>180</td>\n",
       "      <td>High Cholesterol</td>\n",
       "    </tr>\n",
       "    <tr>\n",
       "      <th>3</th>\n",
       "      <td>4</td>\n",
       "      <td>23</td>\n",
       "      <td>M</td>\n",
       "      <td>110</td>\n",
       "      <td>190</td>\n",
       "      <td>Normal</td>\n",
       "    </tr>\n",
       "    <tr>\n",
       "      <th>4</th>\n",
       "      <td>5</td>\n",
       "      <td>56</td>\n",
       "      <td>F</td>\n",
       "      <td>145</td>\n",
       "      <td>220</td>\n",
       "      <td>Hypertension</td>\n",
       "    </tr>\n",
       "  </tbody>\n",
       "</table>\n",
       "</div>"
      ],
      "text/plain": [
       "   PatientID  Age Sex  BloodPressure  Cholesterol         Diagnosis\n",
       "0          1   45   F            120          200            Normal\n",
       "1          2   34   M            135          240      Hypertension\n",
       "2          3   67   F            160          180  High Cholesterol\n",
       "3          4   23   M            110          190            Normal\n",
       "4          5   56   F            145          220      Hypertension"
      ]
     },
     "execution_count": 4,
     "metadata": {},
     "output_type": "execute_result"
    }
   ],
   "source": [
    "# Load the data from the CSV file\n",
    "df = pd.read_csv(\"../data/patients.csv\")\n",
    "\n",
    "# Display the data\n",
    "df\n"
   ]
  },
  {
   "cell_type": "code",
   "execution_count": 5,
   "id": "e08bda3a-d31e-414e-bbc9-4e5c1ffe9552",
   "metadata": {},
   "outputs": [
    {
     "name": "stdout",
     "output_type": "stream",
     "text": [
      "🩺 Dataset Info:\n",
      "<class 'pandas.core.frame.DataFrame'>\n",
      "RangeIndex: 5 entries, 0 to 4\n",
      "Data columns (total 6 columns):\n",
      " #   Column         Non-Null Count  Dtype \n",
      "---  ------         --------------  ----- \n",
      " 0   PatientID      5 non-null      int64 \n",
      " 1   Age            5 non-null      int64 \n",
      " 2   Sex            5 non-null      object\n",
      " 3   BloodPressure  5 non-null      int64 \n",
      " 4   Cholesterol    5 non-null      int64 \n",
      " 5   Diagnosis      5 non-null      object\n",
      "dtypes: int64(4), object(2)\n",
      "memory usage: 372.0+ bytes\n",
      "None\n",
      "\n",
      "📈 Basic Statistics:\n",
      "       PatientID        Age  BloodPressure  Cholesterol\n",
      "count   5.000000   5.000000       5.000000     5.000000\n",
      "mean    3.000000  45.000000     134.000000   206.000000\n",
      "std     1.581139  17.392527      19.811613    24.083189\n",
      "min     1.000000  23.000000     110.000000   180.000000\n",
      "25%     2.000000  34.000000     120.000000   190.000000\n",
      "50%     3.000000  45.000000     135.000000   200.000000\n",
      "75%     4.000000  56.000000     145.000000   220.000000\n",
      "max     5.000000  67.000000     160.000000   240.000000\n",
      "\n",
      "📋 Diagnosis counts:\n",
      "Diagnosis\n",
      "Normal              2\n",
      "Hypertension        2\n",
      "High Cholesterol    1\n",
      "Name: count, dtype: int64\n"
     ]
    }
   ],
   "source": [
    "# Display basic information about the dataset\n",
    "print(\"🩺 Dataset Info:\")\n",
    "print(df.info())\n",
    "\n",
    "# Show quick statistics (mean, min, max, etc.)\n",
    "print(\"\\n📈 Basic Statistics:\")\n",
    "print(df.describe())\n",
    "\n",
    "# Check how many patients per diagnosis\n",
    "print(\"\\n📋 Diagnosis counts:\")\n",
    "print(df[\"Diagnosis\"].value_counts())\n"
   ]
  },
  {
   "cell_type": "code",
   "execution_count": 6,
   "id": "54677e47-1d67-42e3-96c1-290976552fe9",
   "metadata": {},
   "outputs": [
    {
     "data": {
      "image/png": "[encoded data removed]",
      "text/plain": [
       "<Figure size 800x500 with 1 Axes>"
      ]
     },
     "metadata": {},
     "output_type": "display_data"
    }
   ],
   "source": [
    "plt.figure(figsize=(8,5))\n",
    "plt.scatter(df[\"Age\"], df[\"BloodPressure\"], color='teal', s=80)\n",
    "plt.title(\"Age vs Blood Pressure\")\n",
    "plt.xlabel(\"Age\")\n",
    "plt.ylabel(\"Blood Pressure\")\n",
    "plt.grid(True)\n",
    "plt.show()\n"
   ]
  },
  {
   "cell_type": "code",
   "execution_count": null,
   "id": "ef8ccdd1-a706-4d68-a90e-28a1b418eaab",
   "metadata": {},
   "outputs": [],
   "source": []
  }
 ],
 "metadata": {
  "kernelspec": {
   "display_name": "Python 3 (ipykernel)",
   "language": "python",
   "name": "python3"
  },
  "language_info": {
   "codemirror_mode": {
    "name": "ipython",
    "version": 3
   },
   "file_extension": ".py",
   "mimetype": "text/x-python",
   "name": "python",
   "nbconvert_exporter": "python",
   "pygments_lexer": "ipython3",
   "version": "3.11.13"
  }
 },
 "nbformat": 4,
 "nbformat_minor": 5
}
